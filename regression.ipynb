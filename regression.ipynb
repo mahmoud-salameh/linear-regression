{
 "cells": [],
 "metadata": {
  "orig_nbformat": 4,
  "language_info": {
   "name": "python",
   "version": "3.9.6",
   "mimetype": "text/x-python",
   "codemirror_mode": {
    "name": "ipython",
    "version": 3
   },
   "pygments_lexer": "ipython3",
   "nbconvert_exporter": "python",
   "file_extension": ".py"
  },
  "kernelspec": {
   "name": "python3",
   "display_name": "Python 3.9.6 64-bit ('.venv': poetry)"
  },
  "interpreter": {
   "hash": "6ac6590ce99f92b6d84142d6005d1cd066025c61144200ff47a5ccc8db2eacf6"
  }
 },
 "nbformat": 4,
 "nbformat_minor": 2
}